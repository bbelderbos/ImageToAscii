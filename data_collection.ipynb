{
  "nbformat": 4,
  "nbformat_minor": 0,
  "metadata": {
    "colab": {
      "provenance": [],
      "authorship_tag": "ABX9TyOsK4+dvT1DkaXr2qz9M97Q",
      "include_colab_link": true
    },
    "kernelspec": {
      "name": "python3",
      "display_name": "Python 3"
    },
    "language_info": {
      "name": "python"
    }
  },
  "cells": [
    {
      "cell_type": "markdown",
      "metadata": {
        "id": "view-in-github",
        "colab_type": "text"
      },
      "source": [
        "<a href=\"https://colab.research.google.com/github/daspartho/ImageToAscii/blob/main/data_collection.ipynb\" target=\"_parent\"><img src=\"https://colab.research.google.com/assets/colab-badge.svg\" alt=\"Open In Colab\"/></a>"
      ]
    },
    {
      "cell_type": "code",
      "source": [
        "!pip install praw"
      ],
      "metadata": {
        "id": "1Aket1XduF0a"
      },
      "execution_count": null,
      "outputs": []
    },
    {
      "cell_type": "code",
      "source": [
        "import praw\n",
        "import requests\n",
        "from pathlib import Path\n",
        "import time"
      ],
      "metadata": {
        "id": "LuqBoJD08gv_"
      },
      "execution_count": null,
      "outputs": []
    },
    {
      "cell_type": "code",
      "source": [
        "# pass your authentication information to Reddit instance\n",
        "reddit = praw.Reddit(\n",
        "    client_id=\"\",\n",
        "    client_secret=\"\",\n",
        "    user_agent=\"\",\n",
        "    check_for_async=False,\n",
        ")"
      ],
      "metadata": {
        "id": "PLN-OWZAtDQB"
      },
      "execution_count": null,
      "outputs": []
    },
    {
      "cell_type": "code",
      "source": [
        "def save_img(img_data, img_path):\n",
        "    with open(img_path, 'wb') as handler:\n",
        "        handler.write(img_data)"
      ],
      "metadata": {
        "id": "HKYwgSpG-92m"
      },
      "execution_count": null,
      "outputs": []
    },
    {
      "cell_type": "code",
      "source": [
        "def download_images(data_path, subreddit):\n",
        "    data_path.mkdir(exist_ok=True)\n",
        "\n",
        "    n=0\n",
        "    for post in subreddit.top(limit=None):\n",
        "        url = post.url\n",
        "        try:\n",
        "            img_data = requests.get(url).content\n",
        "        except requests.exceptions.ConnectionError:\n",
        "            time.sleep(60)\n",
        "\n",
        "        if url.endswith('.jpg'):\n",
        "            img_path=data_path/f'{n}.jpg'\n",
        "            save_img(img_data, img_path)\n",
        "            n+=1\n",
        "\n",
        "        elif url.endswith('.png'):\n",
        "            img_path=data_path/f'{n}.png'\n",
        "            save_img(img_data, img_path)\n",
        "            n+=1"
      ],
      "metadata": {
        "id": "-UsCpJM49D0-"
      },
      "execution_count": null,
      "outputs": []
    },
    {
      "cell_type": "code",
      "execution_count": null,
      "metadata": {
        "id": "uqDaPjrshhDH"
      },
      "outputs": [],
      "source": [
        "human_art_subs = ['Art','DigitalArt','ImaginaryMindscapes','museum', 'ArtPorn']\n",
        "ai_art_subs = ['StableDiffusion', 'midjourney', 'dalle2']"
      ]
    },
    {
      "cell_type": "code",
      "source": [
        "# Scraping Human Art\n",
        "\n",
        "human_art_path = Path('humanart')\n",
        "human_art_subreddit = reddit.subreddit('+'.join(human_art_subs)) \n",
        "download_images(human_art_path, human_art_subreddit)\n",
        "\n",
        "# Scraping AI Art\n",
        "ai_art_path = Path('aiart')\n",
        "ai_art_subreddit = reddit.subreddit('+'.join(ai_art_subs)) \n",
        "download_images(ai_art_path, ai_art_subreddit)"
      ],
      "metadata": {
        "id": "1GyfKr3ftO45"
      },
      "execution_count": null,
      "outputs": []
    }
  ]
}